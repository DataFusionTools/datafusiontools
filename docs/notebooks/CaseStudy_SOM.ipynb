{
 "cells": [
  {
   "cell_type": "code",
   "execution_count": 13,
   "metadata": {},
   "outputs": [],
   "source": [
    "from datafusiontools._core.utils import CreateInputsML\n",
    "from datafusiontools._core.data_input import Data, Variable\n",
    "from datafusiontools.machine_learning.self_organizing_map import SOM\n",
    "import pandas as pd"
   ]
  },
  {
   "cell_type": "code",
   "execution_count": 14,
   "metadata": {},
   "outputs": [],
   "source": [
    "# create the feature list\n",
    "create_features = CreateInputsML()\n",
    "\n",
    "# read csv, define column names that should be _excluded_ (!)\n",
    "df = pd.read_csv('../data/NN_data.csv', sep=';')#, index_col=0)\n",
    "exclude_var_names = ['Output']\n",
    "\n",
    "# prepare datafusiontools feature object\n",
    "vars = []\n",
    "for col in df.columns:\n",
    "    vars.append(Variable(label=col, value=df[col].values))\n",
    "data = Data(variables=vars, location=None)\n",
    "in_var_names = df.columns.difference(exclude_var_names).to_list()\n",
    "create_features.add_features(data, variable_names=in_var_names, use_independent_variable=False)\n",
    "\n",
    "# extract data from feature object\n",
    "training_data = create_features.get_all_features(flatten=False)\n",
    "component_names = create_features.get_feature_names()"
   ]
  },
  {
   "cell_type": "code",
   "execution_count": 15,
   "metadata": {},
   "outputs": [],
   "source": [
    "# setup SOM object\n",
    "som = SOM(classification=False, mapsize=[50,30])"
   ]
  },
  {
   "cell_type": "code",
   "execution_count": 16,
   "metadata": {},
   "outputs": [
    {
     "ename": "AttributeError",
     "evalue": "module 'sompy' has no attribute 'SOMFactory'",
     "output_type": "error",
     "traceback": [
      "\u001b[1;31m---------------------------------------------------------------------------\u001b[0m",
      "\u001b[1;31mAttributeError\u001b[0m                            Traceback (most recent call last)",
      "\u001b[1;32m~\\AppData\\Local\\Temp/ipykernel_2572/2003506208.py\u001b[0m in \u001b[0;36m<module>\u001b[1;34m\u001b[0m\n\u001b[1;32m----> 1\u001b[1;33m \u001b[0msom\u001b[0m\u001b[1;33m.\u001b[0m\u001b[0mtrain\u001b[0m\u001b[1;33m(\u001b[0m\u001b[0mdata\u001b[0m\u001b[1;33m=\u001b[0m\u001b[0mtraining_data\u001b[0m\u001b[1;33m,\u001b[0m \u001b[0mnames\u001b[0m\u001b[1;33m=\u001b[0m\u001b[0mcomponent_names\u001b[0m\u001b[1;33m)\u001b[0m\u001b[1;33m\u001b[0m\u001b[1;33m\u001b[0m\u001b[0m\n\u001b[0m",
      "\u001b[1;32mc:\\users\\zuada\\software_dev\\datafusiontools\\DataFusionTools\\machine_learning\\self_organizing_map.py\u001b[0m in \u001b[0;36mtrain\u001b[1;34m(self, data, names)\u001b[0m\n\u001b[0;32m     88\u001b[0m \u001b[1;33m\u001b[0m\u001b[0m\n\u001b[0;32m     89\u001b[0m     \u001b[1;32mdef\u001b[0m \u001b[0mtrain\u001b[0m\u001b[1;33m(\u001b[0m\u001b[0mself\u001b[0m\u001b[1;33m,\u001b[0m \u001b[0mdata\u001b[0m\u001b[1;33m,\u001b[0m \u001b[0mnames\u001b[0m\u001b[1;33m)\u001b[0m \u001b[1;33m->\u001b[0m \u001b[1;32mNone\u001b[0m\u001b[1;33m:\u001b[0m\u001b[1;33m\u001b[0m\u001b[1;33m\u001b[0m\u001b[0m\n\u001b[1;32m---> 90\u001b[1;33m         \u001b[0mself\u001b[0m\u001b[1;33m.\u001b[0m\u001b[0mtrain_som\u001b[0m\u001b[1;33m(\u001b[0m\u001b[0mdata\u001b[0m\u001b[1;33m=\u001b[0m\u001b[0mdata\u001b[0m\u001b[1;33m,\u001b[0m \u001b[0mnames\u001b[0m\u001b[1;33m=\u001b[0m\u001b[0mnames\u001b[0m\u001b[1;33m)\u001b[0m\u001b[1;33m\u001b[0m\u001b[1;33m\u001b[0m\u001b[0m\n\u001b[0m\u001b[0;32m     91\u001b[0m \u001b[1;33m\u001b[0m\u001b[0m\n\u001b[0;32m     92\u001b[0m     \u001b[1;32mdef\u001b[0m \u001b[0mplot_umatrix_components\u001b[0m\u001b[1;33m(\u001b[0m\u001b[0mself\u001b[0m\u001b[1;33m)\u001b[0m\u001b[1;33m:\u001b[0m\u001b[1;33m\u001b[0m\u001b[1;33m\u001b[0m\u001b[0m\n",
      "\u001b[1;32mc:\\users\\zuada\\software_dev\\datafusiontools\\DataFusionTools\\machine_learning\\self_organizing_map.py\u001b[0m in \u001b[0;36mtrain_som\u001b[1;34m(self, data, names)\u001b[0m\n\u001b[0;32m     33\u001b[0m         \u001b[1;32mif\u001b[0m \u001b[0mself\u001b[0m\u001b[1;33m.\u001b[0m\u001b[0mmapsize\u001b[0m \u001b[1;32mis\u001b[0m \u001b[1;32mNone\u001b[0m\u001b[1;33m:\u001b[0m\u001b[1;33m\u001b[0m\u001b[1;33m\u001b[0m\u001b[0m\n\u001b[0;32m     34\u001b[0m             \u001b[0mself\u001b[0m\u001b[1;33m.\u001b[0m\u001b[0mmapsize\u001b[0m \u001b[1;33m=\u001b[0m \u001b[1;33m[\u001b[0m\u001b[1;36m50\u001b[0m\u001b[1;33m,\u001b[0m \u001b[1;36m60\u001b[0m\u001b[1;33m]\u001b[0m\u001b[1;33m\u001b[0m\u001b[1;33m\u001b[0m\u001b[0m\n\u001b[1;32m---> 35\u001b[1;33m         som = sompy.SOMFactory.build(\n\u001b[0m\u001b[0;32m     36\u001b[0m             \u001b[0mself\u001b[0m\u001b[1;33m.\u001b[0m\u001b[0mtraining_data\u001b[0m\u001b[1;33m,\u001b[0m\u001b[1;33m\u001b[0m\u001b[1;33m\u001b[0m\u001b[0m\n\u001b[0;32m     37\u001b[0m             \u001b[0mmapsize\u001b[0m\u001b[1;33m=\u001b[0m\u001b[0mself\u001b[0m\u001b[1;33m.\u001b[0m\u001b[0mmapsize\u001b[0m\u001b[1;33m,\u001b[0m\u001b[1;33m\u001b[0m\u001b[1;33m\u001b[0m\u001b[0m\n",
      "\u001b[1;31mAttributeError\u001b[0m: module 'sompy' has no attribute 'SOMFactory'"
     ]
    }
   ],
   "source": [
    "som.train(data=training_data, names=component_names)"
   ]
  },
  {
   "cell_type": "code",
   "execution_count": null,
   "metadata": {},
   "outputs": [],
   "source": [
    "# som.codebook.to_csv('tests/test_output/test_SOM/codebook.csv', index=False)\n",
    "# som.codebook = pd.read_csv('tests/test_output/test_SOM/codebook.csv')"
   ]
  },
  {
   "cell_type": "code",
   "execution_count": null,
   "metadata": {},
   "outputs": [],
   "source": [
    "#som.plot_umatrix_components()"
   ]
  },
  {
   "cell_type": "code",
   "execution_count": null,
   "metadata": {},
   "outputs": [],
   "source": [
    "import altair as alt"
   ]
  },
  {
   "cell_type": "code",
   "execution_count": null,
   "metadata": {},
   "outputs": [],
   "source": [
    "if alt.__version__ > '4.2':\n",
    "    print('true')"
   ]
  },
  {
   "cell_type": "code",
   "execution_count": null,
   "metadata": {},
   "outputs": [],
   "source": [
    "alt.__version__"
   ]
  },
  {
   "cell_type": "code",
   "execution_count": null,
   "metadata": {},
   "outputs": [],
   "source": [
    "df.head()"
   ]
  },
  {
   "cell_type": "code",
   "execution_count": null,
   "metadata": {},
   "outputs": [],
   "source": [
    "df_target_var = df[exclude_var_names]\n",
    "df_target = df_target.copy()\n",
    "df_target.loc[:, 'bmu'] = som.bmu.astype(int)\n",
    "#df_target.head()"
   ]
  },
  {
   "cell_type": "code",
   "execution_count": null,
   "metadata": {},
   "outputs": [],
   "source": []
  },
  {
   "cell_type": "code",
   "execution_count": null,
   "metadata": {},
   "outputs": [],
   "source": [
    "if som.mapsize[0] <= 25:\n",
    "    step_size = 12\n",
    "elif som.mapsize[0] < 50:\n",
    "    step_size = 9\n",
    "else:\n",
    "    step_size = 6\n",
    "\n",
    "data_fields = som.codebook.columns.to_list()\n",
    "data_fields.remove(\"X\")\n",
    "data_fields.remove(\"Y\")\n",
    "data_fields.remove(\"XY\")\n",
    "# data_fields.remove(\"U_matrix\")\n",
    "\n",
    "input_dropdown = alt.binding_select(options=data_fields)\n",
    "if alt.__version__ > \"4.2\":\n",
    "    selection = alt.selection_single(\n",
    "        fields=[\"parameter\"],\n",
    "        bind=input_dropdown,\n",
    "        name=\"selected\",\n",
    "        value=data_fields[0],  # valid after altair 5.0 is released\n",
    "        # init={\"parameter\": data_fields[0]},  # depr in altair 5.0\n",
    "    )\n",
    "else:\n",
    "    selection = alt.selection_single(\n",
    "        fields=[\"parameter\"],\n",
    "        bind=input_dropdown,\n",
    "        name=\"selected\",\n",
    "        # value=data_fields[0], # valid after altair 5.0 is released\n",
    "        init={\"parameter\": data_fields[0]},  # depr in altair 5.0\n",
    "    )\n",
    "\n",
    "scale_color = alt.Scale(\n",
    "    range=[\n",
    "        \"#3D3D3D\",\n",
    "        \"#F0F8FF\",\n",
    "        \"cornflowerblue\",\n",
    "        \"mediumseagreen\",\n",
    "        \"#FFEE00\",\n",
    "        \"darkorange\",\n",
    "        \"firebrick\",\n",
    "    ],\n",
    "    zero=False,\n",
    "    nice=False,\n",
    ")\n",
    "\n",
    "brush = alt.selection(type=\"interval\", name=\"BRUSH\")\n",
    "\n",
    "# prepare base_matrix\n"
   ]
  },
  {
   "cell_type": "code",
   "execution_count": null,
   "metadata": {},
   "outputs": [],
   "source": [
    "components = alt.Chart(som.codebook).mark_rect().encode(\n",
    "    x=alt.X(\n",
    "        \"X:N\", scale=alt.Scale(paddingInner=0.02), axis=None, sort=None\n",
    "    ),\n",
    "    y=alt.Y(\n",
    "        \"Y:N\", scale=alt.Scale(paddingInner=0.02), axis=None, sort=None\n",
    "    ),\n",
    "    opacity=alt.condition(brush, alt.value(1), alt.value(0.2)),\n",
    "    # cannot yet use expr for title. see https://github.com/vega/vega-lite/issues/7264\n",
    "    color=alt.Color(\n",
    "        \"value:Q\",\n",
    "        scale=scale_color,\n",
    "        legend=alt.Legend(\n",
    "            title=\"selected_parameter\", labelLimit=300, orient=\"top\"\n",
    "        ),\n",
    "    ),\n",
    ").transform_fold(\n",
    "    data_fields, as_=[\"parameter\", \"value\"]\n",
    ").add_selection(\n",
    "    selection\n",
    ").add_selection(\n",
    "    brush\n",
    ").transform_filter(\n",
    "    selection\n",
    ").properties(width={\"step\": step_size}, height={\"step\": step_size})"
   ]
  },
  {
   "cell_type": "code",
   "execution_count": null,
   "metadata": {},
   "outputs": [],
   "source": [
    "dynamic = alt.Chart(df_target_var).mark_bar().encode(\n",
    "    x='Output',\n",
    "    y='count()',\n",
    "    color='Output'\n",
    ").transform_lookup(\n",
    "    lookup = 'bmu',\n",
    "    from_ = alt.LookupData(som.codebook, 'XY'),\n",
    "    as_ = 'lu'\n",
    ").transform_calculate(\n",
    "    \"X\", \"datum.lu.X\"\n",
    ").transform_calculate(\n",
    "    \"Y\", \"datum.lu.Y\"\n",
    ").transform_filter(\n",
    "    brush \n",
    ")\n",
    "\n",
    "# combine charts in layer and horizontal concat\n",
    "comb = alt.hconcat(components, dynamic)\n",
    "comb"
   ]
  },
  {
   "cell_type": "code",
   "execution_count": null,
   "metadata": {},
   "outputs": [],
   "source": []
  },
  {
   "cell_type": "code",
   "execution_count": null,
   "metadata": {},
   "outputs": [],
   "source": [
    "# prepare dots on basemap\n",
    "map_dynamic = alt.Chart(df_target_var).mark_circle(\n",
    "    stroke='white',\n",
    "    strokeWidth=0.2,\n",
    "    size=12\n",
    ").encode(\n",
    "    longitude='lon:Q',\n",
    "    latitude='lat:Q',    \n",
    "    color=alt.Color('value:Q', sort= \"ascending\", scale=scale_color),\n",
    "    size=alt.Size('value:Q', scale=alt.Scale(range=[30, 160]), legend=None),\n",
    ").transform_lookup(\n",
    "    lookup = 'som_key',\n",
    "    from_ = alt.LookupData(matrix_csv, 'XY'),\n",
    "    as_ = 'geo'\n",
    ").transform_calculate(\n",
    "    \"X\", \"datum.geo.X\"\n",
    ").transform_calculate(\n",
    "    \"Y\", \"datum.geo.Y\"\n",
    ").transform_calculate(\n",
    "    \"value\", \"datum.geo[select_parameter]\"\n",
    ").transform_filter(\n",
    "    brush \n",
    ")\n",
    "\n",
    "# combine charts in layer and horizontal concat\n",
    "comb = alt.hconcat(\n",
    "    components, \n",
    "    alt.layer(\n",
    "        map_base, \n",
    "        map_dynamic, \n",
    "        map_rivers\n",
    "    ).properties(width=500, height=450, view={'fill':'#3D3D3D'})\n",
    ").properties(title=alt.TitleParams(text=\n",
    "    '''A self-organizing map of European rivers using variables\n",
    "representing the geographical characteristics of their catchments''', \n",
    "    anchor='middle')\n",
    ")\n",
    "comb"
   ]
  },
  {
   "cell_type": "code",
   "execution_count": null,
   "metadata": {},
   "outputs": [],
   "source": []
  }
 ],
 "metadata": {
  "interpreter": {
   "hash": "6fc931d5260d8e0ef5fe801d066885032be1c6dc8c4e1a9323008ccf17db9246"
  },
  "kernelspec": {
   "display_name": "Python 3 (ipykernel)",
   "language": "python",
   "name": "python3"
  },
  "language_info": {
   "codemirror_mode": {
    "name": "ipython",
    "version": 3
   },
   "file_extension": ".py",
   "mimetype": "text/x-python",
   "name": "python",
   "nbconvert_exporter": "python",
   "pygments_lexer": "ipython3",
   "version": "3.9.7"
  }
 },
 "nbformat": 4,
 "nbformat_minor": 4
}
