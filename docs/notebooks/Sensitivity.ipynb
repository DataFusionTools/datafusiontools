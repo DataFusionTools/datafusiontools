{
 "cells": [
  {
   "cell_type": "markdown",
   "id": "421f691f",
   "metadata": {},
   "source": [
    "# Perform sensitivity analysis on a model"
   ]
  },
  {
   "cell_type": "markdown",
   "id": "546f74b9",
   "metadata": {},
   "source": [
    "With datafusion tools it is possible to perform sensitivity analysis on a model.\n",
    "\n",
    "First it is necessary to import the datafusion tools packages:"
   ]
  },
  {
   "cell_type": "code",
   "execution_count": null,
   "id": "6e3c18ef",
   "metadata": {},
   "outputs": [],
   "source": [
    "import numpy as np\n",
    "import matplotlib.pylab as plt\n",
    "\n",
    "from datafusiontools.sensitivity.sensitivity import Sensitivity, SensitivityMethods"
   ]
  },
  {
   "cell_type": "markdown",
   "id": "4e62c9bf",
   "metadata": {},
   "source": [
    "## Available methods"
   ]
  },
  {
   "cell_type": "markdown",
   "id": "36045502",
   "metadata": {},
   "source": [
    "There are to methods available to perform the sensitivity analysis:\n",
    "\n",
    "* [Morris method](https://en.wikipedia.org/wiki/Morris_method)\n",
    "\n",
    "* [Sobol method](https://en.wikipedia.org/wiki/Variance-based_sensitivity_analysis)"
   ]
  },
  {
   "cell_type": "markdown",
   "id": "dbccceb9",
   "metadata": {},
   "source": [
    "# Application\n",
    "\n",
    "To illustrate the use of the methods the Sellmeijer piping model is used.\n",
    "\n",
    "The Sellmeijer piping model can be imported from:"
   ]
  },
  {
   "cell_type": "code",
   "execution_count": null,
   "id": "343be850",
   "metadata": {},
   "outputs": [],
   "source": [
    "from tests.models.piping import SellmeijerRule"
   ]
  },
  {
   "cell_type": "markdown",
   "id": "bdb42279",
   "metadata": {},
   "source": [
    "To run the Sellmeijer model:"
   ]
  },
  {
   "cell_type": "code",
   "execution_count": null,
   "id": "a719493b",
   "metadata": {},
   "outputs": [],
   "source": [
    "hc = SellmeijerRule.calculate_critical_head([50, 20, 1e-3, 2e-4, 2650, 1000, 2.50E-01, 37])\n"
   ]
  },
  {
   "cell_type": "markdown",
   "id": "db901256",
   "metadata": {},
   "source": [
    "where the arguments are:\n",
    "\n",
    "* L\n",
    "* D\n",
    "* kappa\n",
    "* d70\n",
    "* rho_s\n",
    "* rho_l\n",
    "* eta\n",
    "* theta"
   ]
  },
  {
   "cell_type": "code",
   "execution_count": null,
   "id": "ee61091b",
   "metadata": {},
   "outputs": [],
   "source": [
    "print(hc)"
   ]
  },
  {
   "cell_type": "markdown",
   "id": "82181522",
   "metadata": {},
   "source": [
    "## Sensitivity analysis\n",
    "\n",
    "In order to perform a sensitivity analysis it is necessary to define the variables which will be tested, and their ranges.\n",
    "These need to be defined as a dictionary:\n"
   ]
  },
  {
   "cell_type": "code",
   "execution_count": null,
   "id": "cdf3aee4",
   "metadata": {},
   "outputs": [],
   "source": [
    "param_piping = {\"names\": [\"L\", \"D\", \"kappa\", \"d70\", \"rho_s\", \"rho_l\", \"eta\", \"theta\"],\n",
    "                \"bounds\": [[5, 20], [10, 100], [1e-10, 1e-2], [2e-7, 2e-4], [2000, 3000], [900, 1100], [2.5E-2, 2.5], [30, 50]],\n",
    "                }"
   ]
  },
  {
   "cell_type": "markdown",
   "id": "4cdcd6b5",
   "metadata": {},
   "source": [
    "## Morris method\n",
    "\n",
    "To perform the sensitivity analysis with the Morris method:\n"
   ]
  },
  {
   "cell_type": "code",
   "execution_count": null,
   "id": "8373d961",
   "metadata": {},
   "outputs": [],
   "source": [
    "s = Sensitivity()\n",
    "s.define_model(SellmeijerRule.calculate_critical_head, param_piping)\n",
    "s.run_sensitivity(SensitivityMethods.Morris)"
   ]
  },
  {
   "cell_type": "markdown",
   "id": "2e367817",
   "metadata": {},
   "source": [
    "To visualise the results:"
   ]
  },
  {
   "cell_type": "code",
   "execution_count": null,
   "id": "62493bac",
   "metadata": {},
   "outputs": [],
   "source": [
    "fig, ax = plt.subplots()\n",
    "ax.barh(s.sensitivity_results['names'], s.sensitivity_results[\"mu_star\"])\n",
    "ax.set_xlabel(r\"$\\mu^{*}$\")\n",
    "ax.set_ylabel(\"model parameter\")\n",
    "ax.set_title(f\"Sensitivity model: Morris\")"
   ]
  },
  {
   "cell_type": "markdown",
   "id": "6799d808",
   "metadata": {},
   "source": [
    "The figure can automatically be generated and saved. \n",
    "In this case the figure file is called Morris.png and it is saved in the folder sensitivity.\n"
   ]
  },
  {
   "cell_type": "code",
   "execution_count": null,
   "id": "95e189e8",
   "metadata": {},
   "outputs": [],
   "source": [
    "s.plot(\"sensitivity\", \"Morris.png\")"
   ]
  },
  {
   "cell_type": "markdown",
   "id": "1b25bd25",
   "metadata": {},
   "source": [
    "## Sobol method"
   ]
  },
  {
   "cell_type": "code",
   "execution_count": null,
   "id": "cb0d972b",
   "metadata": {},
   "outputs": [],
   "source": [
    "s = Sensitivity()\n",
    "s.define_model(SellmeijerRule.calculate_critical_head, param_piping)\n",
    "s.run_sensitivity(SensitivityMethods.Sobol)\n",
    "s.plot(\"sensitivity\", \"Sobol.png\")"
   ]
  },
  {
   "cell_type": "code",
   "execution_count": null,
   "id": "ad011f44",
   "metadata": {},
   "outputs": [],
   "source": [
    "fig, ax = plt.subplots()\n",
    "ax.barh(s.sensitivity_results.problem['names'], s.sensitivity_results[\"S1\"])\n",
    "ax.set_xlabel(r\"S1\")\n",
    "ax.set_ylabel(\"model parameter\")\n",
    "ax.set_title(f\"Sensitivity model: Sobol\")"
   ]
  },
  {
   "cell_type": "markdown",
   "id": "b45699a3",
   "metadata": {},
   "source": [
    "## Other uses"
   ]
  },
  {
   "cell_type": "markdown",
   "id": "33021971",
   "metadata": {},
   "source": [
    "The sensitivity analysis can also be run with models in which there are fixed variables.\n",
    "For example, for the Sellmeijer model it can be assumed that L and D are constants, and that the sensitivity study is to be performed on the remaining variables."
   ]
  },
  {
   "cell_type": "code",
   "execution_count": null,
   "id": "1fed0ffa",
   "metadata": {},
   "outputs": [],
   "source": [
    "param_piping = {\"names\": [\"kappa\", \"d70\", \"rho_s\", \"rho_l\", \"eta\", \"theta\"],\n",
    "                \"bounds\": [[1e-10, 1e-2], [2e-7, 2e-4], [2000, 3000], [900, 1100], [2.5E-2, 2.5], [30, 50]],\n",
    "                }\n",
    "\n",
    "L = 20\n",
    "D = 50"
   ]
  },
  {
   "cell_type": "markdown",
   "id": "1959e7d5",
   "metadata": {},
   "source": [
    "The fixed variables should be passed in de model definition as last arguments."
   ]
  },
  {
   "cell_type": "code",
   "execution_count": null,
   "id": "398a2a02",
   "metadata": {},
   "outputs": [],
   "source": [
    "s = Sensitivity()\n",
    "s.define_model(SellmeijerRule.calculate_critical_head, param_piping, L, D)\n",
    "s.run_sensitivity(SensitivityMethods.Morris)"
   ]
  },
  {
   "cell_type": "markdown",
   "id": "385721ed",
   "metadata": {},
   "source": [
    "Again the results can be visualised. If follows that now no sensitivity is shown for L and D."
   ]
  },
  {
   "cell_type": "code",
   "execution_count": null,
   "id": "eb4744ed",
   "metadata": {},
   "outputs": [],
   "source": [
    "fig, ax = plt.subplots()\n",
    "ax.barh(s.sensitivity_results['names'], s.sensitivity_results[\"mu_star\"])\n",
    "ax.set_xlabel(r\"$\\mu^{*}$\")\n",
    "ax.set_ylabel(\"model parameter\")\n",
    "ax.set_title(f\"Sensitivity model: Morris\")"
   ]
  }
 ],
 "metadata": {
  "kernelspec": {
   "display_name": "Python 3 (ipykernel)",
   "language": "python",
   "name": "python3"
  },
  "language_info": {
   "codemirror_mode": {
    "name": "ipython",
    "version": 3
   },
   "file_extension": ".py",
   "mimetype": "text/x-python",
   "name": "python",
   "nbconvert_exporter": "python",
   "pygments_lexer": "ipython3",
   "version": "3.9.7"
  }
 },
 "nbformat": 4,
 "nbformat_minor": 5
}
